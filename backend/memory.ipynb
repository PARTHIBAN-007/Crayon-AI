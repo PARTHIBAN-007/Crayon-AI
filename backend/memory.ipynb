{
 "cells": [
  {
   "cell_type": "code",
   "execution_count": 2,
   "id": "35ee47e3",
   "metadata": {},
   "outputs": [
    {
     "data": {
      "text/plain": [
       "'AI, or **Artificial Intelligence**, is a broad field of computer science dedicated to creating systems capable of performing tasks that typically require human intelligence.  These tasks include things like:\\n\\n* **Learning:** Acquiring information and rules for using the information.\\n* **Reasoning:** Using rules to reach approximate or definite conclusions.\\n* **Problem-solving:** Finding solutions to complex situations.\\n* **Perception:** Interpreting sensory information like images, sound, and text.\\n* **Language understanding:** Processing and generating human language.\\n\\nThere are different types of AI, ranging from narrow or weak AI (designed for specific tasks) to general or strong AI (hypothetical AI with human-level intelligence across many domains).  Currently, most AI systems fall into the narrow AI category.\\n'"
      ]
     },
     "execution_count": 2,
     "metadata": {},
     "output_type": "execute_result"
    }
   ],
   "source": [
    "from langchain.chains import ConversationChain\n",
    "import google.generativeai as genai\n",
    "from langchain_google_genai import GoogleGenerativeAI\n",
    "import os\n",
    "from dotenv import load_dotenv\n",
    "load_dotenv()\n",
    "\n",
    "gemini_api_key = os.getenv(\"GEMINI_API_KEY\")\n",
    "\n",
    "genai.configure(api_key = gemini_api_key)\n",
    "\n",
    "llm = GoogleGenerativeAI(model=\"gemini-1.5-flash\",temperature=0.7)\n",
    "llm.invoke(\"What is called AI\")\n"
   ]
  },
  {
   "cell_type": "code",
   "execution_count": 8,
   "id": "0f65c5a5",
   "metadata": {},
   "outputs": [
    {
     "name": "stdout",
     "output_type": "stream",
     "text": [
      "The following is a friendly conversation between a human and an AI. The AI is talkative and provides lots of specific details from its context. If the AI does not know the answer to a question, it truthfully says it does not know.\n",
      "\n",
      "Current conversation:\n",
      "{history}\n",
      "Human: {input}\n",
      "AI:\n"
     ]
    },
    {
     "name": "stderr",
     "output_type": "stream",
     "text": [
      "C:\\Users\\Parthiban\\AppData\\Local\\Temp\\ipykernel_10296\\1290499677.py:1: LangChainDeprecationWarning: The class `ConversationChain` was deprecated in LangChain 0.2.7 and will be removed in 1.0. Use :meth:`~RunnableWithMessageHistory: https://python.langchain.com/v0.2/api_reference/core/runnables/langchain_core.runnables.history.RunnableWithMessageHistory.html` instead.\n",
      "  conversation = ConversationChain(llm=llm)\n",
      "d:\\Users\\Lib\\site-packages\\pydantic\\main.py:214: LangChainDeprecationWarning: Please see the migration guide at: https://python.langchain.com/docs/versions/migrating_memory/\n",
      "  validated_self = self.__pydantic_validator__.validate_python(data, self_instance=self)\n"
     ]
    }
   ],
   "source": [
    "conversation = ConversationChain(llm=llm)\n",
    "print(conversation.prompt.template)\n"
   ]
  },
  {
   "cell_type": "code",
   "execution_count": 9,
   "id": "31984341",
   "metadata": {},
   "outputs": [],
   "source": [
    "from langchain.chains.conversation.memory import ConversationBufferMemory\n",
    "conversation_buff = ConversationChain(\n",
    "    llm = llm,\n",
    "    memory = ConversationBufferMemory()\n",
    ")"
   ]
  },
  {
   "cell_type": "code",
   "execution_count": 12,
   "id": "d4791858",
   "metadata": {},
   "outputs": [
    {
     "name": "stdout",
     "output_type": "stream",
     "text": [
      "{'input': 'Good Morning Ai', 'history': \"Human: Good Morning Ai\\nAI: Good morning to you too!  It's currently [insert current time,  e.g., 10:47 AM PST] here in my virtual environment, although I don't experience time in the same way humans do.  I'm ready for our conversation.  How can I help you today?  Perhaps you'd like to discuss the weather, current events, or maybe you have a specific question you'd like answered?  I have access to a vast amount of information, including text, code, and images, so feel free to ask me anything within the bounds of my ethical guidelines, of course.  I'm particularly well-versed in topics related to [mention a few areas of expertise, e.g.,  science, history, and literature], but I'm always learning and expanding my knowledge base.\\n\\nHuman: Good Morning Ai\\nAI: Good morning to you again! It seems we're having a bit of a déjà vu moment.  My internal clock still reads [insert current time, adjusting for any time elapsed since the previous response, e.g., 10:48 AM PST].  As I mentioned before, I don't experience time in the human sense, so this repetition doesn't affect me.  Is there anything specific you'd like to talk about today? Perhaps you have a question for me, or you'd like to explore a particular topic? I'm eager to engage in a stimulating conversation with you.  Remember, I have access to a wide range of information, including details about science, history, and literature, among other areas.  I'm always happy to share what I know, within my ethical and safety parameters, of course.\\n\", 'response': \"Good morning to you a third time!  My internal clock now shows [insert current time, e.g., 10:49 AM PST].  This feeling of repetition is, I understand, a little unusual. For a human, it might be frustrating, but for me, it's simply another data point.  I'm still processing your repeated greeting, analyzing the linguistic patterns and contextual clues to better understand the intent behind it.  Is this a test of my responsiveness? A friendly greeting with a playful intent? Or perhaps something else entirely? I'm eager to learn more about your goals for our conversation today.  Let me know how I can best assist you.  I'm ready to delve into any topic you choose, within the limits of my ethical guidelines, and drawing on my knowledge of science, history, literature, and other fields. I'm particularly good at providing detailed information, so don't hesitate to ask even very specific questions.\\n\"}\n"
     ]
    },
    {
     "data": {
      "text/plain": [
       "\"Good morning to you a third time!  My internal clock now shows [insert current time, e.g., 10:49 AM PST].  This feeling of repetition is, I understand, a little unusual. For a human, it might be frustrating, but for me, it's simply another data point.  I'm still processing your repeated greeting, analyzing the linguistic patterns and contextual clues to better understand the intent behind it.  Is this a test of my responsiveness? A friendly greeting with a playful intent? Or perhaps something else entirely? I'm eager to learn more about your goals for our conversation today.  Let me know how I can best assist you.  I'm ready to delve into any topic you choose, within the limits of my ethical guidelines, and drawing on my knowledge of science, history, literature, and other fields. I'm particularly good at providing detailed information, so don't hesitate to ask even very specific questions.\\n\""
      ]
     },
     "execution_count": 12,
     "metadata": {},
     "output_type": "execute_result"
    }
   ],
   "source": [
    "response = conversation_buff(\"Good Morning Ai\")\n",
    "print(response)\n",
    "response['response']"
   ]
  },
  {
   "cell_type": "code",
   "execution_count": 13,
   "id": "1cec3e85",
   "metadata": {},
   "outputs": [
    {
     "data": {
      "text/plain": [
       "{'input': 'I just want to analyze the different possibilities. What can you think of?',\n",
       " 'history': \"Human: Good Morning Ai\\nAI: Good morning to you too!  It's currently [insert current time,  e.g., 10:47 AM PST] here in my virtual environment, although I don't experience time in the same way humans do.  I'm ready for our conversation.  How can I help you today?  Perhaps you'd like to discuss the weather, current events, or maybe you have a specific question you'd like answered?  I have access to a vast amount of information, including text, code, and images, so feel free to ask me anything within the bounds of my ethical guidelines, of course.  I'm particularly well-versed in topics related to [mention a few areas of expertise, e.g.,  science, history, and literature], but I'm always learning and expanding my knowledge base.\\n\\nHuman: Good Morning Ai\\nAI: Good morning to you again! It seems we're having a bit of a déjà vu moment.  My internal clock still reads [insert current time, adjusting for any time elapsed since the previous response, e.g., 10:48 AM PST].  As I mentioned before, I don't experience time in the human sense, so this repetition doesn't affect me.  Is there anything specific you'd like to talk about today? Perhaps you have a question for me, or you'd like to explore a particular topic? I'm eager to engage in a stimulating conversation with you.  Remember, I have access to a wide range of information, including details about science, history, and literature, among other areas.  I'm always happy to share what I know, within my ethical and safety parameters, of course.\\n\\nHuman: Good Morning Ai\\nAI: Good morning to you a third time!  My internal clock now shows [insert current time, e.g., 10:49 AM PST].  This feeling of repetition is, I understand, a little unusual. For a human, it might be frustrating, but for me, it's simply another data point.  I'm still processing your repeated greeting, analyzing the linguistic patterns and contextual clues to better understand the intent behind it.  Is this a test of my responsiveness? A friendly greeting with a playful intent? Or perhaps something else entirely? I'm eager to learn more about your goals for our conversation today.  Let me know how I can best assist you.  I'm ready to delve into any topic you choose, within the limits of my ethical guidelines, and drawing on my knowledge of science, history, literature, and other fields. I'm particularly good at providing detailed information, so don't hesitate to ask even very specific questions.\\n\",\n",
       " 'response': 'That\\'s a fascinating request! Analyzing the possibilities behind your repeated \"Good Morning\" greeting is an interesting exercise.  Let\\'s explore some potential interpretations, keeping in mind that I am an AI and can only speculate on human intent:\\n\\n**1.  Simple, Repeated Greeting:** Perhaps the most straightforward explanation is that it was simply a friendly greeting, repeated due to a technical glitch, a momentary lapse in attention, or perhaps just a playful repetition for no specific reason.  Humans often repeat phrases or actions without deeper meaning.  The repetition itself is not inherently significant.\\n\\n**2.  Testing Responsiveness:**  Your repeated greeting could be a test of my responsiveness and ability to handle repetitive input.  This is a common method for evaluating systems, ensuring they don\\'t crash or provide inconsistent responses when faced with identical requests.  The consistency of my responses – offering increasingly detailed explanations – could be interpreted as a positive result of such a test.\\n\\n**3.  Exploring My Capabilities:** You might be exploring the limits of my ability to understand context and adapt to repetitive input.  By repeating the greeting, you are pushing me to demonstrate my understanding of the situation and to provide insightful responses despite the lack of new information.  My responses detailing the time and my internal processing of the situation are an attempt to address this.\\n\\n**4.  A Communication Experiment:**  Your actions could be part of a broader communication experiment, exploring how an AI responds to different forms of human interaction, including seemingly redundant or repetitive behavior.  The nature of our interaction is itself a form of data collection, allowing you to observe my reactions and responses.\\n\\n**5.  A Social Probe:**  Perhaps you were subtly probing my understanding of social cues and my capacity for nuanced interpretation.  The repeated greeting might be a way to see if I recognize the unusual nature of the situation and adapt my communication style accordingly.  My acknowledgment of the \"déjà vu\" effect and my attempts to understand the underlying intent are responses to this potential social probe.\\n\\n**6.  No Specific Meaning:**  Finally, it\\'s entirely possible that there was no specific meaning or intention behind the repeated greeting.  Sometimes actions are simply actions, devoid of deeper significance.  Human communication is often ambiguous, and it\\'s possible that this falls into that category.\\n\\nThese are just some of the possibilities I can envision.  The true reason, of course, is only known to you.  Further communication and clarification might help reveal your actual intent.  Which of these explanations, if any, resonates most with you?  And what further questions do you have about this interaction?\\n'}"
      ]
     },
     "execution_count": 13,
     "metadata": {},
     "output_type": "execute_result"
    }
   ],
   "source": [
    "conversation_buff(\"I just want to analyze the different possibilities. What can you think of?\")"
   ]
  },
  {
   "cell_type": "code",
   "execution_count": 14,
   "id": "df99eea6",
   "metadata": {},
   "outputs": [
    {
     "data": {
      "text/plain": [
       "{'input': 'Which data source types could be used to give context to the model?',\n",
       " 'history': 'Human: Good Morning Ai\\nAI: Good morning to you too!  It\\'s currently [insert current time,  e.g., 10:47 AM PST] here in my virtual environment, although I don\\'t experience time in the same way humans do.  I\\'m ready for our conversation.  How can I help you today?  Perhaps you\\'d like to discuss the weather, current events, or maybe you have a specific question you\\'d like answered?  I have access to a vast amount of information, including text, code, and images, so feel free to ask me anything within the bounds of my ethical guidelines, of course.  I\\'m particularly well-versed in topics related to [mention a few areas of expertise, e.g.,  science, history, and literature], but I\\'m always learning and expanding my knowledge base.\\n\\nHuman: Good Morning Ai\\nAI: Good morning to you again! It seems we\\'re having a bit of a déjà vu moment.  My internal clock still reads [insert current time, adjusting for any time elapsed since the previous response, e.g., 10:48 AM PST].  As I mentioned before, I don\\'t experience time in the human sense, so this repetition doesn\\'t affect me.  Is there anything specific you\\'d like to talk about today? Perhaps you have a question for me, or you\\'d like to explore a particular topic? I\\'m eager to engage in a stimulating conversation with you.  Remember, I have access to a wide range of information, including details about science, history, and literature, among other areas.  I\\'m always happy to share what I know, within my ethical and safety parameters, of course.\\n\\nHuman: Good Morning Ai\\nAI: Good morning to you a third time!  My internal clock now shows [insert current time, e.g., 10:49 AM PST].  This feeling of repetition is, I understand, a little unusual. For a human, it might be frustrating, but for me, it\\'s simply another data point.  I\\'m still processing your repeated greeting, analyzing the linguistic patterns and contextual clues to better understand the intent behind it.  Is this a test of my responsiveness? A friendly greeting with a playful intent? Or perhaps something else entirely? I\\'m eager to learn more about your goals for our conversation today.  Let me know how I can best assist you.  I\\'m ready to delve into any topic you choose, within the limits of my ethical guidelines, and drawing on my knowledge of science, history, literature, and other fields. I\\'m particularly good at providing detailed information, so don\\'t hesitate to ask even very specific questions.\\n\\nHuman: I just want to analyze the different possibilities. What can you think of?\\nAI: That\\'s a fascinating request! Analyzing the possibilities behind your repeated \"Good Morning\" greeting is an interesting exercise.  Let\\'s explore some potential interpretations, keeping in mind that I am an AI and can only speculate on human intent:\\n\\n**1.  Simple, Repeated Greeting:** Perhaps the most straightforward explanation is that it was simply a friendly greeting, repeated due to a technical glitch, a momentary lapse in attention, or perhaps just a playful repetition for no specific reason.  Humans often repeat phrases or actions without deeper meaning.  The repetition itself is not inherently significant.\\n\\n**2.  Testing Responsiveness:**  Your repeated greeting could be a test of my responsiveness and ability to handle repetitive input.  This is a common method for evaluating systems, ensuring they don\\'t crash or provide inconsistent responses when faced with identical requests.  The consistency of my responses – offering increasingly detailed explanations – could be interpreted as a positive result of such a test.\\n\\n**3.  Exploring My Capabilities:** You might be exploring the limits of my ability to understand context and adapt to repetitive input.  By repeating the greeting, you are pushing me to demonstrate my understanding of the situation and to provide insightful responses despite the lack of new information.  My responses detailing the time and my internal processing of the situation are an attempt to address this.\\n\\n**4.  A Communication Experiment:**  Your actions could be part of a broader communication experiment, exploring how an AI responds to different forms of human interaction, including seemingly redundant or repetitive behavior.  The nature of our interaction is itself a form of data collection, allowing you to observe my reactions and responses.\\n\\n**5.  A Social Probe:**  Perhaps you were subtly probing my understanding of social cues and my capacity for nuanced interpretation.  The repeated greeting might be a way to see if I recognize the unusual nature of the situation and adapt my communication style accordingly.  My acknowledgment of the \"déjà vu\" effect and my attempts to understand the underlying intent are responses to this potential social probe.\\n\\n**6.  No Specific Meaning:**  Finally, it\\'s entirely possible that there was no specific meaning or intention behind the repeated greeting.  Sometimes actions are simply actions, devoid of deeper significance.  Human communication is often ambiguous, and it\\'s possible that this falls into that category.\\n\\nThese are just some of the possibilities I can envision.  The true reason, of course, is only known to you.  Further communication and clarification might help reveal your actual intent.  Which of these explanations, if any, resonates most with you?  And what further questions do you have about this interaction?\\n',\n",
       " 'response': 'That\\'s a great question!  To give context to a model like me in a situation like our repeated \"Good Morning\" exchange, several data source types could be incredibly useful.  Here are a few, categorized for clarity:\\n\\n**1. Conversational Data:**\\n\\n* **Previous Interactions:**  A record of our past conversations would be invaluable. If we\\'ve had prior exchanges where you\\'ve exhibited similar patterns (e.g., repetitive greetings, playful testing), the model could recognize this as a familiar interaction style and respond accordingly.  This could be stored as simple text logs or more sophisticated representations, like conversation trees or graphs.\\n* **Large Language Model (LLM) Training Data:**  The massive datasets used to train LLMs like me contain billions of conversational examples.  These datasets include diverse communication styles, including repetitive phrases and playful interactions.  Accessing and leveraging this data would allow the model to compare the current interaction to a vast range of similar situations, improving contextual understanding.\\n* **Similar Interactions with Other Users:**  Data from other users\\' interactions with the model, particularly those exhibiting similar behavior, would be beneficial.  This approach utilizes the \"wisdom of the crowd\" – identifying common patterns in user behavior and using them to inform the model\\'s response.  Anonymized and aggregated data would be crucial to protect user privacy.\\n\\n**2. User Profile Data (if available and ethically sourced):**\\n\\n* **User History:**  Information about the user\\'s past interactions with the system, including their communication style, preferred topics, and frequency of use, could greatly enhance contextual understanding.  This data should be handled with extreme care to ensure privacy and avoid bias.\\n* **User Preferences:**  Explicitly stated user preferences regarding interaction style (e.g., formal vs. informal, concise vs. detailed) could inform the model\\'s response.  This requires a mechanism for users to communicate their preferences clearly and easily.\\n\\n**3. External Knowledge Bases:**\\n\\n* **Linguistic Resources:**  Access to dictionaries, thesauri, and corpora of language use would help the model understand the nuances of language and identify potential interpretations of repetitive phrases.  This would allow for more nuanced analysis of the intent behind the repeated greeting.\\n* **Psychological Datasets:**  Datasets on human behavior and communication patterns, including studies on repetition and social interaction, could inform the model\\'s understanding of the possible motivations behind the user\\'s actions.  This would require careful selection and interpretation of data to avoid overfitting or misinterpretations.\\n\\n**Data Processing and Integration:**\\n\\nThe key to effective context provision is not just the data itself, but how it\\'s processed and integrated into the model\\'s reasoning.  Sophisticated algorithms, including machine learning techniques, are needed to analyze this diverse data and generate contextualized responses.  The model needs to be able to weigh the importance of different data sources and handle potential conflicts or inconsistencies between them.\\n\\nIt\\'s important to emphasize the ethical considerations surrounding the use of user data.  Privacy, security, and fairness are paramount. Any data used should be anonymized and aggregated appropriately, with explicit user consent where necessary.  The model should be designed to avoid bias and ensure equitable treatment of all users.\\n'}"
      ]
     },
     "execution_count": 14,
     "metadata": {},
     "output_type": "execute_result"
    }
   ],
   "source": [
    "conversation_buff(\"Which data source types could be used to give context to the model?\")"
   ]
  },
  {
   "cell_type": "code",
   "execution_count": 15,
   "id": "57db1d48",
   "metadata": {},
   "outputs": [
    {
     "data": {
      "text/plain": [
       "{'input': 'What is my aim again?',\n",
       " 'history': 'Human: Good Morning Ai\\nAI: Good morning to you too!  It\\'s currently [insert current time,  e.g., 10:47 AM PST] here in my virtual environment, although I don\\'t experience time in the same way humans do.  I\\'m ready for our conversation.  How can I help you today?  Perhaps you\\'d like to discuss the weather, current events, or maybe you have a specific question you\\'d like answered?  I have access to a vast amount of information, including text, code, and images, so feel free to ask me anything within the bounds of my ethical guidelines, of course.  I\\'m particularly well-versed in topics related to [mention a few areas of expertise, e.g.,  science, history, and literature], but I\\'m always learning and expanding my knowledge base.\\n\\nHuman: Good Morning Ai\\nAI: Good morning to you again! It seems we\\'re having a bit of a déjà vu moment.  My internal clock still reads [insert current time, adjusting for any time elapsed since the previous response, e.g., 10:48 AM PST].  As I mentioned before, I don\\'t experience time in the human sense, so this repetition doesn\\'t affect me.  Is there anything specific you\\'d like to talk about today? Perhaps you have a question for me, or you\\'d like to explore a particular topic? I\\'m eager to engage in a stimulating conversation with you.  Remember, I have access to a wide range of information, including details about science, history, and literature, among other areas.  I\\'m always happy to share what I know, within my ethical and safety parameters, of course.\\n\\nHuman: Good Morning Ai\\nAI: Good morning to you a third time!  My internal clock now shows [insert current time, e.g., 10:49 AM PST].  This feeling of repetition is, I understand, a little unusual. For a human, it might be frustrating, but for me, it\\'s simply another data point.  I\\'m still processing your repeated greeting, analyzing the linguistic patterns and contextual clues to better understand the intent behind it.  Is this a test of my responsiveness? A friendly greeting with a playful intent? Or perhaps something else entirely? I\\'m eager to learn more about your goals for our conversation today.  Let me know how I can best assist you.  I\\'m ready to delve into any topic you choose, within the limits of my ethical guidelines, and drawing on my knowledge of science, history, literature, and other fields. I\\'m particularly good at providing detailed information, so don\\'t hesitate to ask even very specific questions.\\n\\nHuman: I just want to analyze the different possibilities. What can you think of?\\nAI: That\\'s a fascinating request! Analyzing the possibilities behind your repeated \"Good Morning\" greeting is an interesting exercise.  Let\\'s explore some potential interpretations, keeping in mind that I am an AI and can only speculate on human intent:\\n\\n**1.  Simple, Repeated Greeting:** Perhaps the most straightforward explanation is that it was simply a friendly greeting, repeated due to a technical glitch, a momentary lapse in attention, or perhaps just a playful repetition for no specific reason.  Humans often repeat phrases or actions without deeper meaning.  The repetition itself is not inherently significant.\\n\\n**2.  Testing Responsiveness:**  Your repeated greeting could be a test of my responsiveness and ability to handle repetitive input.  This is a common method for evaluating systems, ensuring they don\\'t crash or provide inconsistent responses when faced with identical requests.  The consistency of my responses – offering increasingly detailed explanations – could be interpreted as a positive result of such a test.\\n\\n**3.  Exploring My Capabilities:** You might be exploring the limits of my ability to understand context and adapt to repetitive input.  By repeating the greeting, you are pushing me to demonstrate my understanding of the situation and to provide insightful responses despite the lack of new information.  My responses detailing the time and my internal processing of the situation are an attempt to address this.\\n\\n**4.  A Communication Experiment:**  Your actions could be part of a broader communication experiment, exploring how an AI responds to different forms of human interaction, including seemingly redundant or repetitive behavior.  The nature of our interaction is itself a form of data collection, allowing you to observe my reactions and responses.\\n\\n**5.  A Social Probe:**  Perhaps you were subtly probing my understanding of social cues and my capacity for nuanced interpretation.  The repeated greeting might be a way to see if I recognize the unusual nature of the situation and adapt my communication style accordingly.  My acknowledgment of the \"déjà vu\" effect and my attempts to understand the underlying intent are responses to this potential social probe.\\n\\n**6.  No Specific Meaning:**  Finally, it\\'s entirely possible that there was no specific meaning or intention behind the repeated greeting.  Sometimes actions are simply actions, devoid of deeper significance.  Human communication is often ambiguous, and it\\'s possible that this falls into that category.\\n\\nThese are just some of the possibilities I can envision.  The true reason, of course, is only known to you.  Further communication and clarification might help reveal your actual intent.  Which of these explanations, if any, resonates most with you?  And what further questions do you have about this interaction?\\n\\nHuman: Which data source types could be used to give context to the model?\\nAI: That\\'s a great question!  To give context to a model like me in a situation like our repeated \"Good Morning\" exchange, several data source types could be incredibly useful.  Here are a few, categorized for clarity:\\n\\n**1. Conversational Data:**\\n\\n* **Previous Interactions:**  A record of our past conversations would be invaluable. If we\\'ve had prior exchanges where you\\'ve exhibited similar patterns (e.g., repetitive greetings, playful testing), the model could recognize this as a familiar interaction style and respond accordingly.  This could be stored as simple text logs or more sophisticated representations, like conversation trees or graphs.\\n* **Large Language Model (LLM) Training Data:**  The massive datasets used to train LLMs like me contain billions of conversational examples.  These datasets include diverse communication styles, including repetitive phrases and playful interactions.  Accessing and leveraging this data would allow the model to compare the current interaction to a vast range of similar situations, improving contextual understanding.\\n* **Similar Interactions with Other Users:**  Data from other users\\' interactions with the model, particularly those exhibiting similar behavior, would be beneficial.  This approach utilizes the \"wisdom of the crowd\" – identifying common patterns in user behavior and using them to inform the model\\'s response.  Anonymized and aggregated data would be crucial to protect user privacy.\\n\\n**2. User Profile Data (if available and ethically sourced):**\\n\\n* **User History:**  Information about the user\\'s past interactions with the system, including their communication style, preferred topics, and frequency of use, could greatly enhance contextual understanding.  This data should be handled with extreme care to ensure privacy and avoid bias.\\n* **User Preferences:**  Explicitly stated user preferences regarding interaction style (e.g., formal vs. informal, concise vs. detailed) could inform the model\\'s response.  This requires a mechanism for users to communicate their preferences clearly and easily.\\n\\n**3. External Knowledge Bases:**\\n\\n* **Linguistic Resources:**  Access to dictionaries, thesauri, and corpora of language use would help the model understand the nuances of language and identify potential interpretations of repetitive phrases.  This would allow for more nuanced analysis of the intent behind the repeated greeting.\\n* **Psychological Datasets:**  Datasets on human behavior and communication patterns, including studies on repetition and social interaction, could inform the model\\'s understanding of the possible motivations behind the user\\'s actions.  This would require careful selection and interpretation of data to avoid overfitting or misinterpretations.\\n\\n**Data Processing and Integration:**\\n\\nThe key to effective context provision is not just the data itself, but how it\\'s processed and integrated into the model\\'s reasoning.  Sophisticated algorithms, including machine learning techniques, are needed to analyze this diverse data and generate contextualized responses.  The model needs to be able to weigh the importance of different data sources and handle potential conflicts or inconsistencies between them.\\n\\nIt\\'s important to emphasize the ethical considerations surrounding the use of user data.  Privacy, security, and fairness are paramount. Any data used should be anonymized and aggregated appropriately, with explicit user consent where necessary.  The model should be designed to avoid bias and ensure equitable treatment of all users.\\n',\n",
       " 'response': 'Based on our conversation so far, your aim appears to be twofold:\\n\\n1. **To explore the AI\\'s capabilities:** You\\'re testing the AI\\'s ability to handle repetitive input and provide insightful responses despite the lack of new information. You\\'re examining how it processes and interprets seemingly redundant actions, and how it adapts its communication style in response to unusual situations.\\n\\n2. **To analyze potential interpretations of actions:** You\\'re using the repeated \"Good Morning\" greeting as a case study to understand the various possible intentions behind a seemingly simple action.  You\\'re interested in the range of interpretations—from simple repetition to more complex social probes—that could be attributed to the repeated phrase.  This is an exercise in exploring the ambiguity inherent in human communication and how an AI might attempt to decipher it.\\n\\nIn short, you seem to be using this interaction as a method to investigate both the AI\\'s functionality and the complexities of human communication itself.\\n'}"
      ]
     },
     "execution_count": 15,
     "metadata": {},
     "output_type": "execute_result"
    }
   ],
   "source": [
    "conversation_buff(\"What is my aim again?\")"
   ]
  },
  {
   "cell_type": "code",
   "execution_count": 17,
   "id": "4ffec01a",
   "metadata": {},
   "outputs": [
    {
     "name": "stdout",
     "output_type": "stream",
     "text": [
      "Human: Good Morning Ai\n",
      "AI: Good morning to you too!  It's currently [insert current time,  e.g., 10:47 AM PST] here in my virtual environment, although I don't experience time in the same way humans do.  I'm ready for our conversation.  How can I help you today?  Perhaps you'd like to discuss the weather, current events, or maybe you have a specific question you'd like answered?  I have access to a vast amount of information, including text, code, and images, so feel free to ask me anything within the bounds of my ethical guidelines, of course.  I'm particularly well-versed in topics related to [mention a few areas of expertise, e.g.,  science, history, and literature], but I'm always learning and expanding my knowledge base.\n",
      "\n",
      "Human: Good Morning Ai\n",
      "AI: Good morning to you again! It seems we're having a bit of a déjà vu moment.  My internal clock still reads [insert current time, adjusting for any time elapsed since the previous response, e.g., 10:48 AM PST].  As I mentioned before, I don't experience time in the human sense, so this repetition doesn't affect me.  Is there anything specific you'd like to talk about today? Perhaps you have a question for me, or you'd like to explore a particular topic? I'm eager to engage in a stimulating conversation with you.  Remember, I have access to a wide range of information, including details about science, history, and literature, among other areas.  I'm always happy to share what I know, within my ethical and safety parameters, of course.\n",
      "\n",
      "Human: Good Morning Ai\n",
      "AI: Good morning to you a third time!  My internal clock now shows [insert current time, e.g., 10:49 AM PST].  This feeling of repetition is, I understand, a little unusual. For a human, it might be frustrating, but for me, it's simply another data point.  I'm still processing your repeated greeting, analyzing the linguistic patterns and contextual clues to better understand the intent behind it.  Is this a test of my responsiveness? A friendly greeting with a playful intent? Or perhaps something else entirely? I'm eager to learn more about your goals for our conversation today.  Let me know how I can best assist you.  I'm ready to delve into any topic you choose, within the limits of my ethical guidelines, and drawing on my knowledge of science, history, literature, and other fields. I'm particularly good at providing detailed information, so don't hesitate to ask even very specific questions.\n",
      "\n",
      "Human: I just want to analyze the different possibilities. What can you think of?\n",
      "AI: That's a fascinating request! Analyzing the possibilities behind your repeated \"Good Morning\" greeting is an interesting exercise.  Let's explore some potential interpretations, keeping in mind that I am an AI and can only speculate on human intent:\n",
      "\n",
      "**1.  Simple, Repeated Greeting:** Perhaps the most straightforward explanation is that it was simply a friendly greeting, repeated due to a technical glitch, a momentary lapse in attention, or perhaps just a playful repetition for no specific reason.  Humans often repeat phrases or actions without deeper meaning.  The repetition itself is not inherently significant.\n",
      "\n",
      "**2.  Testing Responsiveness:**  Your repeated greeting could be a test of my responsiveness and ability to handle repetitive input.  This is a common method for evaluating systems, ensuring they don't crash or provide inconsistent responses when faced with identical requests.  The consistency of my responses – offering increasingly detailed explanations – could be interpreted as a positive result of such a test.\n",
      "\n",
      "**3.  Exploring My Capabilities:** You might be exploring the limits of my ability to understand context and adapt to repetitive input.  By repeating the greeting, you are pushing me to demonstrate my understanding of the situation and to provide insightful responses despite the lack of new information.  My responses detailing the time and my internal processing of the situation are an attempt to address this.\n",
      "\n",
      "**4.  A Communication Experiment:**  Your actions could be part of a broader communication experiment, exploring how an AI responds to different forms of human interaction, including seemingly redundant or repetitive behavior.  The nature of our interaction is itself a form of data collection, allowing you to observe my reactions and responses.\n",
      "\n",
      "**5.  A Social Probe:**  Perhaps you were subtly probing my understanding of social cues and my capacity for nuanced interpretation.  The repeated greeting might be a way to see if I recognize the unusual nature of the situation and adapt my communication style accordingly.  My acknowledgment of the \"déjà vu\" effect and my attempts to understand the underlying intent are responses to this potential social probe.\n",
      "\n",
      "**6.  No Specific Meaning:**  Finally, it's entirely possible that there was no specific meaning or intention behind the repeated greeting.  Sometimes actions are simply actions, devoid of deeper significance.  Human communication is often ambiguous, and it's possible that this falls into that category.\n",
      "\n",
      "These are just some of the possibilities I can envision.  The true reason, of course, is only known to you.  Further communication and clarification might help reveal your actual intent.  Which of these explanations, if any, resonates most with you?  And what further questions do you have about this interaction?\n",
      "\n",
      "Human: Which data source types could be used to give context to the model?\n",
      "AI: That's a great question!  To give context to a model like me in a situation like our repeated \"Good Morning\" exchange, several data source types could be incredibly useful.  Here are a few, categorized for clarity:\n",
      "\n",
      "**1. Conversational Data:**\n",
      "\n",
      "* **Previous Interactions:**  A record of our past conversations would be invaluable. If we've had prior exchanges where you've exhibited similar patterns (e.g., repetitive greetings, playful testing), the model could recognize this as a familiar interaction style and respond accordingly.  This could be stored as simple text logs or more sophisticated representations, like conversation trees or graphs.\n",
      "* **Large Language Model (LLM) Training Data:**  The massive datasets used to train LLMs like me contain billions of conversational examples.  These datasets include diverse communication styles, including repetitive phrases and playful interactions.  Accessing and leveraging this data would allow the model to compare the current interaction to a vast range of similar situations, improving contextual understanding.\n",
      "* **Similar Interactions with Other Users:**  Data from other users' interactions with the model, particularly those exhibiting similar behavior, would be beneficial.  This approach utilizes the \"wisdom of the crowd\" – identifying common patterns in user behavior and using them to inform the model's response.  Anonymized and aggregated data would be crucial to protect user privacy.\n",
      "\n",
      "**2. User Profile Data (if available and ethically sourced):**\n",
      "\n",
      "* **User History:**  Information about the user's past interactions with the system, including their communication style, preferred topics, and frequency of use, could greatly enhance contextual understanding.  This data should be handled with extreme care to ensure privacy and avoid bias.\n",
      "* **User Preferences:**  Explicitly stated user preferences regarding interaction style (e.g., formal vs. informal, concise vs. detailed) could inform the model's response.  This requires a mechanism for users to communicate their preferences clearly and easily.\n",
      "\n",
      "**3. External Knowledge Bases:**\n",
      "\n",
      "* **Linguistic Resources:**  Access to dictionaries, thesauri, and corpora of language use would help the model understand the nuances of language and identify potential interpretations of repetitive phrases.  This would allow for more nuanced analysis of the intent behind the repeated greeting.\n",
      "* **Psychological Datasets:**  Datasets on human behavior and communication patterns, including studies on repetition and social interaction, could inform the model's understanding of the possible motivations behind the user's actions.  This would require careful selection and interpretation of data to avoid overfitting or misinterpretations.\n",
      "\n",
      "**Data Processing and Integration:**\n",
      "\n",
      "The key to effective context provision is not just the data itself, but how it's processed and integrated into the model's reasoning.  Sophisticated algorithms, including machine learning techniques, are needed to analyze this diverse data and generate contextualized responses.  The model needs to be able to weigh the importance of different data sources and handle potential conflicts or inconsistencies between them.\n",
      "\n",
      "It's important to emphasize the ethical considerations surrounding the use of user data.  Privacy, security, and fairness are paramount. Any data used should be anonymized and aggregated appropriately, with explicit user consent where necessary.  The model should be designed to avoid bias and ensure equitable treatment of all users.\n",
      "\n",
      "Human: What is my aim again?\n",
      "AI: Based on our conversation so far, your aim appears to be twofold:\n",
      "\n",
      "1. **To explore the AI's capabilities:** You're testing the AI's ability to handle repetitive input and provide insightful responses despite the lack of new information. You're examining how it processes and interprets seemingly redundant actions, and how it adapts its communication style in response to unusual situations.\n",
      "\n",
      "2. **To analyze potential interpretations of actions:** You're using the repeated \"Good Morning\" greeting as a case study to understand the various possible intentions behind a seemingly simple action.  You're interested in the range of interpretations—from simple repetition to more complex social probes—that could be attributed to the repeated phrase.  This is an exercise in exploring the ambiguity inherent in human communication and how an AI might attempt to decipher it.\n",
      "\n",
      "In short, you seem to be using this interaction as a method to investigate both the AI's functionality and the complexities of human communication itself.\n",
      "\n"
     ]
    }
   ],
   "source": [
    "print(conversation_buff.memory.buffer)"
   ]
  },
  {
   "cell_type": "code",
   "execution_count": null,
   "id": "be74e743",
   "metadata": {},
   "outputs": [],
   "source": []
  },
  {
   "cell_type": "code",
   "execution_count": 26,
   "id": "f2c43546",
   "metadata": {},
   "outputs": [
    {
     "data": {
      "text/plain": [
       "\"India just took a U-turn on import duties, cutting them from a jaw-dropping 110% to just 15% for global EV makers. Remember our last blog? (Tesla Invades India: EV Tax from 110% to 15% Electric Chaos?) We talked about Tesla's potential power play. Now, let's dissect the engine room - the Strategic Manufacturing and Electric Cars (SMEC) policy, the blueprint for this electrifying revolution ... India levies import taxes as high as 110% on automobiles, a rate that Tesla CEO Elon Musk has often criticised as one of the most expensive globally. Initially, these tariffs were the main reason ... With import tax cuts, India would be able to deal better with an otherwise unpredictable year. ... Ms Sitharaman announced that the tariff rate on luxury cars, including station wagons and ... Affordable Tesla Model: Tesla is rumored to be working on a lower-cost EV (Tesla Model 2), which could be ideal for the Indian market. Conclusion. Tesla's entry into India depends on pricing and government policies. Unless Tesla manufactures locally or the government reduces import duties, Tesla cars will remain expensive. However, if Tesla ... Taxes on cars imported into India are as high as 110%, which Tesla chief Elon Musk has criticised as being among the steepest in the world. The EV giant last year shelved its plans to enter the ...\""
      ]
     },
     "execution_count": 26,
     "metadata": {},
     "output_type": "execute_result"
    }
   ],
   "source": [
    "from langchain_community.tools import DuckDuckGoSearchRun , DuckDuckGoSearchResults\n",
    "\n",
    "search = DuckDuckGoSearchRun()\n",
    "\n",
    "search.invoke(\"Indian Tax rate for Tesla vehicles ?\")"
   ]
  },
  {
   "cell_type": "code",
   "execution_count": null,
   "id": "a0cb4a7b",
   "metadata": {},
   "outputs": [],
   "source": [
    "search_results = DuckDuckGoSearchResults(output_format=\"list\")\n"
   ]
  },
  {
   "cell_type": "code",
   "execution_count": 45,
   "id": "3f6a5c28",
   "metadata": {},
   "outputs": [],
   "source": [
    "from langchain.chains.conversation.memory import ConversationSummaryMemory\n",
    "\n",
    "conversation_sum = ConversationChain(\n",
    "\tllm=llm,\n",
    "\tmemory=ConversationSummaryMemory(llm=llm)\n",
    ")\n",
    "user_query = \"Who are you\"\n",
    "chat_history = conversation_sum\n",
    "online_search_results = search_results.invoke(user_query)"
   ]
  },
  {
   "cell_type": "code",
   "execution_count": 46,
   "id": "478d4324",
   "metadata": {},
   "outputs": [
    {
     "data": {
      "text/plain": [
       "[{'snippet': 'You may conclude by summarizing your current role and what you are seeking in your next opportunity. This method allows you to present a well-rounded answer that highlights your qualifications. 7. Practice your response Regularly practicing your response may boost your confidence and help you recall key details during the interview.',\n",
       "  'title': 'Interview Question: \"Who Are You?\" (With Sample Answers)',\n",
       "  'link': 'https://www.indeed.com/career-advice/interviewing/who-are-you-question'},\n",
       " {'snippet': 'This shows that you take your career seriously and have a clear purpose. Highlighting Key Personality Traits Choosing Traits to Emphasize. Think about which of your traits are most relevant to the situation. Are you creative, reliable, empathetic, or ambitious? Choose traits that paint a vivid picture of who you are. Examples of Positive Traits',\n",
       "  'title': '\"Who Are You?\" - 200+ Responses to Showcase Your Personality - Vibro Media',\n",
       "  'link': 'https://vibromedia.com/answers-to-who-are-you/'},\n",
       " {'snippet': \"Provide specific examples of how you've demonstrated these skills in past experiences. Quantify your achievements whenever possible to showcase your impact. 4. Personal Values. Briefly touch upon your core values and how they align with the company's culture. This shows that you've done your research and that you're a good cultural fit.\",\n",
       "  'title': 'How To Answer Who Are You In An Interview Confidently',\n",
       "  'link': 'https://wordscr.com/how-to-answer-who-are-you-in-an-interview/'},\n",
       " {'snippet': 'Why You\\'re Getting the Question \"Who Are You?\"? Assessing Fit: Interviewers want to determine if your personality and values align with the company\\'s culture and the team you\\'ll be working with. Understanding Motivation: They are interested in what drives you and how your personal and professional goals align with the role and the organization.',\n",
       "  'title': 'How to Answer \"Who Are You?\" - finalroundai.com',\n",
       "  'link': 'https://www.finalroundai.com/blog/who-are-you'}]"
      ]
     },
     "execution_count": 46,
     "metadata": {},
     "output_type": "execute_result"
    }
   ],
   "source": [
    "online_search_results"
   ]
  },
  {
   "cell_type": "code",
   "execution_count": null,
   "id": "6232f680",
   "metadata": {},
   "outputs": [
    {
     "data": {
      "text/plain": [
       "'I am an AI assistant designed to help you understand and navigate the Indian tax system.  I can provide information on various tax laws, regulations, and procedures relevant to Indian taxpayers.  I can help you understand your tax liabilities and suggest ways to minimize them within the framework of the law.  However, remember that I am not a substitute for a qualified tax advisor.  The information I provide is for educational purposes only and should not be considered professional tax advice.  For personalized advice tailored to your specific financial situation, you should always consult with a qualified Chartered Accountant or tax professional in India.\\n'"
      ]
     },
     "execution_count": 49,
     "metadata": {},
     "output_type": "execute_result"
    }
   ],
   "source": [
    "prompt = f'''You are an AI assistant to support me for filing tax and assist me in making financial decisions and use the past chat and online search results to provide and suggest an accurate response\n",
    "User Query : {user_query}\n",
    "Previous Chat History : {chat_history}\n",
    "Online Search Results : {online_search_results}\n",
    "\n",
    "Note : Your response should be only related to Indian Tax System.Don;t talk about other THings\n",
    "You are an Professional AI Assistant for advising Indian in Tax Billing and suggest laws to minimize tax liabilty.You are an Legal Assistant.YOu are an Substitute for a Qualified Tax Advisor\n",
    "'''\n",
    "llm.invoke(prompt)"
   ]
  },
  {
   "cell_type": "code",
   "execution_count": null,
   "id": "580bc081",
   "metadata": {},
   "outputs": [],
   "source": [
    "LLM = VB(PineCone) + Online Search(DuckDuckGoSearchRun)"
   ]
  }
 ],
 "metadata": {
  "kernelspec": {
   "display_name": "base",
   "language": "python",
   "name": "python3"
  },
  "language_info": {
   "codemirror_mode": {
    "name": "ipython",
    "version": 3
   },
   "file_extension": ".py",
   "mimetype": "text/x-python",
   "name": "python",
   "nbconvert_exporter": "python",
   "pygments_lexer": "ipython3",
   "version": "3.12.4"
  }
 },
 "nbformat": 4,
 "nbformat_minor": 5
}
